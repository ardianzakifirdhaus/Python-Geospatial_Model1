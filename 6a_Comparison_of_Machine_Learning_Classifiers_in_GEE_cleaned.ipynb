{
  "cells": [
    {
      "cell_type": "markdown",
      "metadata": {
        "id": "view-in-github",
        "colab_type": "text"
      },
      "source": [
        "<a href=\"https://colab.research.google.com/github/ck1972/Python-Geospatial_Model1/blob/main/6a_Comparison_of_Machine_Learning_Classifiers_in_GEE_cleaned.ipynb\" target=\"_parent\"><img src=\"https://colab.research.google.com/assets/colab-badge.svg\" alt=\"Open In Colab\"/></a>"
      ]
    },
    {
      "cell_type": "markdown",
      "metadata": {
        "id": "9enVF7go_Y6x"
      },
      "source": [
        "# Comparing Machine Learning Classifiers in GEE: An Introductory Guide with Python\n",
        "## Introduction\n",
        "The script aims to compare minimum distance, k-nearest neighbor (KNN), support vector machines, decision trees, random forest,and gradient tree boosting classifiers in Google Earth Engine (GEE). We use Python in Colab.\n",
        "\n",
        "- Requirements\n",
        "To run this script, the user must have an Earth Engine account. In addition, the user must authenticate the Earth Engine Python API. See the instructions [here](https://developers.google.com/earth-engine/guides/auth).\n",
        "- This script will use the [geemap](https://geemap.org) Python package to visualize, and map land cover.\n",
        "\n",
        "Following are the steps to compare the machine learning classifiers."
      ]
    },
    {
      "cell_type": "markdown",
      "metadata": {
        "id": "qAAjR3HqAaef"
      },
      "source": [
        "# Initialize and Authenticate Earth Engine\n",
        "To get started with Google Earth Engine (GEE), you need to initialize and authenticate the Earth Engine API. Follow these steps.\n",
        "\n",
        "\n",
        "First, import the Earth Engine API by importing the ee module into your Python environment. This module allows you to interact with the Earth Engine platform."
      ]
    },
    {
      "cell_type": "code",
      "execution_count": null,
      "metadata": {
        "id": "B4EYlLWYAZ-S"
      },
      "outputs": [],
      "source": [
        "# Import the EE API\n",
        "import ee"
      ]
    },
    {
      "cell_type": "markdown",
      "metadata": {
        "id": "SF3CjTkeAkX_"
      },
      "source": [
        "Next, initialize the Earth Engine API. You must initialize the API to use Earth Engine functionalities. This involves authenticating your session and initializing the library. When you run the ee.Initialize() command for the first time, you might be prompted to authenticate your session. This will open a web browser window where you need to log in with your Google account and grant Earth Engine access."
      ]
    },
    {
      "cell_type": "code",
      "execution_count": null,
      "metadata": {
        "id": "EXK5JCrdAqOD"
      },
      "outputs": [],
      "source": [
        "# Trigger the authentication flow.\n",
        "ee.Authenticate()\n",
        "\n",
        "# Initialize the library.\n",
        "ee.Initialize(project='ee-kamusoko-test') # Change to your EE project"
      ]
    },
    {
      "cell_type": "markdown",
      "metadata": {
        "id": "-pwDPkalAvRb"
      },
      "source": [
        "## Import Libraries\n",
        "Next, import the essential libraries needed to process and analyze the datasets."
      ]
    },
    {
      "cell_type": "code",
      "execution_count": null,
      "metadata": {
        "id": "aWr5V6krNx-I"
      },
      "outputs": [],
      "source": [
        "# Import the necessary libraries\n",
        "import geemap"
      ]
    },
    {
      "cell_type": "markdown",
      "metadata": {
        "id": "qYreBcfdBO90"
      },
      "source": [
        "## Import the project boundary\n",
        "First, import the study area boundary boundary."
      ]
    },
    {
      "cell_type": "code",
      "execution_count": null,
      "metadata": {
        "colab": {
          "base_uri": "https://localhost:8080/",
          "height": 17
        },
        "id": "HZfRakIzN8HE",
        "outputId": "2118457f-f727-4654-af8a-e94a6b0f8b75"
      },
      "outputs": [
        {
          "data": {
            "text/html": [
              "\n",
              "            <style>\n",
              "                .geemap-dark {\n",
              "                    --jp-widgets-color: white;\n",
              "                    --jp-widgets-label-color: white;\n",
              "                    --jp-ui-font-color1: white;\n",
              "                    --jp-layout-color2: #454545;\n",
              "                    background-color: #383838;\n",
              "                }\n",
              "\n",
              "                .geemap-dark .jupyter-button {\n",
              "                    --jp-layout-color3: #383838;\n",
              "                }\n",
              "\n",
              "                .geemap-colab {\n",
              "                    background-color: var(--colab-primary-surface-color, white);\n",
              "                }\n",
              "\n",
              "                .geemap-colab .jupyter-button {\n",
              "                    --jp-layout-color3: var(--colab-primary-surface-color, white);\n",
              "                }\n",
              "            </style>\n",
              "            "
            ],
            "text/plain": [
              "<IPython.core.display.HTML object>"
            ]
          },
          "metadata": {},
          "output_type": "display_data"
        }
      ],
      "source": [
        "# Load the boundary\n",
        "boundary = ee.FeatureCollection('users/kamas72_ML_Zim_Cities/Bulawayo_Crop_Boundary')\n",
        "\n",
        "# Load the boundary\n",
        "training_areas = ee.FeatureCollection('users/kamas72_ML_Zim_Cities/Updated_TA_2020_Bul_May_21_GEE')"
      ]
    },
    {
      "cell_type": "markdown",
      "metadata": {
        "id": "6ivWK_RlBe2W"
      },
      "source": [
        "## Prepare Sentinel-2 imagery\n",
        "First, preprocess Sentinel-2 imagery by first applying cloud masking to remove cloud and cirrus pixels using the QA60 band. Then load Sentinel-2 surface reflectance images within a specified date range and filters them based on cloud cover, retaining images with less than 20% cloudiness. A median composite is generated from the filtered images and clipped to a specified boundary region. Finally, the composite is visualized as a false-color image using selected bands on an interactive map, complete with layer control for enhanced usabilit"
      ]
    },
    {
      "cell_type": "code",
      "execution_count": null,
      "metadata": {
        "colab": {
          "base_uri": "https://localhost:8080/",
          "height": 659,
          "referenced_widgets": [
            "fc0028eaa2184a1e9b34da346d5ba9bf",
            "7e6df87ab25d4866829a31f21c1b2a53",
            "5ff1ccf36ef04e8b82a91df361d0df36",
            "f6036aaf56084cea881f2cdafe2c30a6",
            "624366edff604d93ae77ea3733c134a6",
            "af341fe698c643169e782879cbf8950a",
            "6563393ec8914b9699ee944d05867b7e",
            "5a64b1f27b9a43ae8fc2f364707efb70",
            "e2d986df82c44697aa97ce3db9402638",
            "23f586dc1282433cad24e809f5634ce0",
            "45db29f914e94f8da5d03a10010a3b07",
            "aff45cb170ef4506b6f4639c2a3b3113",
            "a5de574d4673401abd2dcee8bff45757",
            "3ed8c8e4014245af89e35f852f89f9ee",
            "e138370ce4414e8db5ab8e83ae09a1da",
            "1b0419fddde5426c9a6bfac174fd6c6b",
            "43b475ad63d54a0c8857e3722bef1bfc",
            "e9f3dbdc15244b6b8784af48fecc97b9",
            "911d1699cfd047659207581f2830bd3f",
            "033444bbc31a47de91b3279a41393610",
            "fd1a2a05ea28499a9d7e4cd9393899c9",
            "d667b87a7c044a65ab337d3efa260ba1",
            "6cee62744edc479baa2d729277acd9d3",
            "6b3bb4ea132d4e9f831a43d2545dff99",
            "6d255067d44e4ffebb39c78c361a4813",
            "8c22335230694d17a3c0371da4052d34",
            "07d289ebf0e242e180407e35d1409ca4",
            "4657bbea89e94b39a229917a1ca78625",
            "c1089cd95e7d462b9f249a6fb724f61a",
            "acda78780a304a3fb35d4b77ab63f77c",
            "21ec28199b5a40159e4e277bf89d1730",
            "564382f1f95747699667f4da457f30d1",
            "4f723b6362b547caaf90a240e2220ae0",
            "09d7e8f194c4435fb75cc08c6dde580c",
            "1990ceae5669491ca241fa48f50a00c7",
            "5ad15b5101974ed3a64cf1554a43c795",
            "8622ab9fb3ce43acb62186bab226a9c3",
            "a31f5ddd88a64888ab5fd9725957cf2a",
            "a4321ac0d4824d64a0d004239f8edfa7",
            "aa3d5216c4fd40ac982644556b83424f",
            "2c00f23706394439aafb822e4ad1ec25",
            "b75bc597e6d34b1c953355729f8de8bc",
            "a8cdca992d6e47efb28ba22683e26f28",
            "e3a1f4ff0d594615b44a75b5323e0e9c",
            "2204faf299c04afe9fd1d100adfb216e",
            "67179bde5c724e8e9784e29b3b66c315",
            "78bd2148655a42d88313b7102451b7db",
            "2320eeb733004f02ac66155d5870a325",
            "1841dcde93a740a2a4a23fdd24b75556",
            "ded43a64e0944b4ca70edcd9e6ab3652",
            "c6cc7f9c05e7489da053a6e2a5872cef",
            "2deca1f3d04543fcb4c901bfde3dcacc",
            "666c5266824d461aa9ec70b6abe26437",
            "ddffa07b6b5c471fa1714732225682d0",
            "bd3a035d8a0144fcb97f2d033e30adb1",
            "dbc9ff2cc6924d6c92fb98f0afdc0077",
            "085ec3fb75ad4d97911aa38c25b909fb",
            "ea92fd3986b2412d8b50c413883a9fed",
            "23a941df45ae4f72a1ee6587ac7a2424",
            "50fd8bf927b94282a222bc4f19150c0c",
            "271789fe6e794505ae5835c5776bac51",
            "fc2ca8b7fad4436397e70ac095f8d1d6",
            "b718fbab9d164aa09cc358f9afe8ae9e",
            "50a263f1625d4a41bb0de404cf2b135d",
            "185c6b091b31400ab8c1375279672b2a",
            "5e952a23f2834156b5779a820f07d948",
            "7338c6518e2649b79adaba39a0886eff",
            "56ec87ec4b8d4602af4bf7c2283b551a",
            "f5f65e9c1ad842ada9b1582d316f7983",
            "22f80e79c86b4c40a3bde4058740f4fd",
            "ca4d8fd402d8412496515d3918cc93ce",
            "f834cbbb7b984175ae67375950e21775",
            "012393dd4c26473a9c5e2b0b8900b77c",
            "d962a54dfba441a985a8d5697828762b",
            "d26b3cff82384dc5a1f30947eecd21ed",
            "7a96cef474c54ef6b9e4699a58f8226a"
          ]
        },
        "id": "9BkBt9EIPDIy",
        "outputId": "aa5b15d9-1bc6-49ba-a4b4-178bff83658a"
      },
      "outputs": [
        {
          "data": {
            "text/html": [
              "\n",
              "            <style>\n",
              "                .geemap-dark {\n",
              "                    --jp-widgets-color: white;\n",
              "                    --jp-widgets-label-color: white;\n",
              "                    --jp-ui-font-color1: white;\n",
              "                    --jp-layout-color2: #454545;\n",
              "                    background-color: #383838;\n",
              "                }\n",
              "\n",
              "                .geemap-dark .jupyter-button {\n",
              "                    --jp-layout-color3: #383838;\n",
              "                }\n",
              "\n",
              "                .geemap-colab {\n",
              "                    background-color: var(--colab-primary-surface-color, white);\n",
              "                }\n",
              "\n",
              "                .geemap-colab .jupyter-button {\n",
              "                    --jp-layout-color3: var(--colab-primary-surface-color, white);\n",
              "                }\n",
              "            </style>\n",
              "            "
            ],
            "text/plain": [
              "<IPython.core.display.HTML object>"
            ]
          },
          "metadata": {},
          "output_type": "display_data"
        },
        {
          "name": "stdout",
          "output_type": "stream",
          "text": [
            "Sentinel-2 Composite: {'type': 'Image', 'bands': [{'id': 'B2', 'data_type': {'type': 'PixelType', 'precision': 'float', 'min': 0, 'max': 6.553500175476074}, 'crs': 'EPSG:4326', 'crs_transform': [1, 0, 0, 0, 1, 0]}, {'id': 'B3', 'data_type': {'type': 'PixelType', 'precision': 'float', 'min': 0, 'max': 6.553500175476074}, 'crs': 'EPSG:4326', 'crs_transform': [1, 0, 0, 0, 1, 0]}, {'id': 'B4', 'data_type': {'type': 'PixelType', 'precision': 'float', 'min': 0, 'max': 6.553500175476074}, 'crs': 'EPSG:4326', 'crs_transform': [1, 0, 0, 0, 1, 0]}, {'id': 'B5', 'data_type': {'type': 'PixelType', 'precision': 'float', 'min': 0, 'max': 6.553500175476074}, 'crs': 'EPSG:4326', 'crs_transform': [1, 0, 0, 0, 1, 0]}, {'id': 'B6', 'data_type': {'type': 'PixelType', 'precision': 'float', 'min': 0, 'max': 6.553500175476074}, 'crs': 'EPSG:4326', 'crs_transform': [1, 0, 0, 0, 1, 0]}, {'id': 'B7', 'data_type': {'type': 'PixelType', 'precision': 'float', 'min': 0, 'max': 6.553500175476074}, 'crs': 'EPSG:4326', 'crs_transform': [1, 0, 0, 0, 1, 0]}, {'id': 'B8', 'data_type': {'type': 'PixelType', 'precision': 'float', 'min': 0, 'max': 6.553500175476074}, 'crs': 'EPSG:4326', 'crs_transform': [1, 0, 0, 0, 1, 0]}, {'id': 'B11', 'data_type': {'type': 'PixelType', 'precision': 'float', 'min': 0, 'max': 6.553500175476074}, 'crs': 'EPSG:4326', 'crs_transform': [1, 0, 0, 0, 1, 0]}, {'id': 'B12', 'data_type': {'type': 'PixelType', 'precision': 'float', 'min': 0, 'max': 6.553500175476074}, 'crs': 'EPSG:4326', 'crs_transform': [1, 0, 0, 0, 1, 0]}]}\n"
          ]
        },
        {
          "data": {
            "application/vnd.jupyter.widget-view+json": {
              "model_id": "fc0028eaa2184a1e9b34da346d5ba9bf",
              "version_major": 2,
              "version_minor": 0
            },
            "text/plain": [
              "Map(center=[-20.112185699155855, 28.554695214742292], controls=(WidgetControl(options=['position', 'transparen…"
            ]
          },
          "metadata": {
            "application/vnd.jupyter.widget-view+json": {
              "colab": {
                "custom_widget_manager": {
                  "url": "https://ssl.gstatic.com/colaboratory-static/widgets/colab-cdn-widget-manager/2b70e893a8ba7c0f/manager.min.js"
                }
              }
            }
          },
          "output_type": "display_data"
        }
      ],
      "source": [
        "# Function for Cloud Masking\n",
        "def mask_s2clouds(image):\n",
        "    qa = image.select('QA60')\n",
        "    cloudBitMask = ee.Number(2).pow(10).int()\n",
        "    cirrusBitMask = ee.Number(2).pow(11).int()\n",
        "    mask = qa.bitwiseAnd(cloudBitMask).eq(0).And(qa.bitwiseAnd(cirrusBitMask).eq(0))\n",
        "    return image.updateMask(mask).divide(10000)\n",
        "\n",
        "# Load Sentinel-2\n",
        "s2 = ee.ImageCollection('COPERNICUS/S2_SR_HARMONIZED') \\\n",
        "    .filterDate('2024-03-01', '2024-06-30') \\\n",
        "    .filter(ee.Filter.lt('CLOUDY_PIXEL_PERCENTAGE', 20)) \\\n",
        "    .map(mask_s2clouds) \\\n",
        "    .select(['B2', 'B3', 'B4', 'B5', 'B6', 'B7', 'B8', 'B11', 'B12'])\n",
        "\n",
        "# Clip the composite\n",
        "composite = s2.median().clip(boundary)\n",
        "\n",
        "# Print Sentinel-2 Composite\n",
        "print('Sentinel-2 Composite:', composite.getInfo())\n",
        "\n",
        "# Display the Sentinel-2 composite\n",
        "# Initialize the map\n",
        "map1 = geemap.Map()\n",
        "\n",
        "# Add the composite image to the map with specified display settings.\n",
        "map1.addLayer(composite, {'bands': ['B11', 'B8', 'B3'], 'min': 0, 'max': 0.3}, 'Sentinel-2 Composite')\n",
        "\n",
        "# Display the map with layer control.\n",
        "map1.centerObject(boundary, 12)\n",
        "map1.addLayerControl()\n",
        "map1"
      ]
    },
    {
      "cell_type": "markdown",
      "metadata": {
        "id": "MCY0sdg4VW8N"
      },
      "source": [
        "## Prepare training data\n",
        "In this step, we prepare the dataset for training and testing machine learning models by processing satellite imagery and training labels. We start by selecting Sentinel-2 bands (B2 to B12) and clipping the composite image to the specified boundary region, defining the input features. Next, we rasterize the vector training data using the Cl_Id property to create a raster layer representing class labels and add it as a new band (class) to the input features. To create a representative dataset, we use stratified sampling to extract reflectance values and class labels, ensuring proportional representation across classes. A random column is added to the dataset with a fixed seed for reproducibility, allowing us to split the data into 70% for training and 30% for validation. Finally, we confirm the dataset sizes to ensure the split is as intended. This process prepares the data for effective training and validation of machine learning models."
      ]
    },
    {
      "cell_type": "code",
      "execution_count": null,
      "metadata": {
        "colab": {
          "base_uri": "https://localhost:8080/",
          "height": 90
        },
        "id": "7k4xvzbtPGiC",
        "outputId": "71cde3cb-0347-4a8c-c8d1-b8a6b7471ff3"
      },
      "outputs": [
        {
          "data": {
            "text/html": [
              "\n",
              "            <style>\n",
              "                .geemap-dark {\n",
              "                    --jp-widgets-color: white;\n",
              "                    --jp-widgets-label-color: white;\n",
              "                    --jp-ui-font-color1: white;\n",
              "                    --jp-layout-color2: #454545;\n",
              "                    background-color: #383838;\n",
              "                }\n",
              "\n",
              "                .geemap-dark .jupyter-button {\n",
              "                    --jp-layout-color3: #383838;\n",
              "                }\n",
              "\n",
              "                .geemap-colab {\n",
              "                    background-color: var(--colab-primary-surface-color, white);\n",
              "                }\n",
              "\n",
              "                .geemap-colab .jupyter-button {\n",
              "                    --jp-layout-color3: var(--colab-primary-surface-color, white);\n",
              "                }\n",
              "            </style>\n",
              "            "
            ],
            "text/plain": [
              "<IPython.core.display.HTML object>"
            ]
          },
          "metadata": {},
          "output_type": "display_data"
        },
        {
          "name": "stdout",
          "output_type": "stream",
          "text": [
            "input features:  {'type': 'Image', 'bands': [{'id': 'B2', 'data_type': {'type': 'PixelType', 'precision': 'float', 'min': 0, 'max': 6.553500175476074}, 'crs': 'EPSG:4326', 'crs_transform': [1, 0, 0, 0, 1, 0]}, {'id': 'B3', 'data_type': {'type': 'PixelType', 'precision': 'float', 'min': 0, 'max': 6.553500175476074}, 'crs': 'EPSG:4326', 'crs_transform': [1, 0, 0, 0, 1, 0]}, {'id': 'B4', 'data_type': {'type': 'PixelType', 'precision': 'float', 'min': 0, 'max': 6.553500175476074}, 'crs': 'EPSG:4326', 'crs_transform': [1, 0, 0, 0, 1, 0]}, {'id': 'B5', 'data_type': {'type': 'PixelType', 'precision': 'float', 'min': 0, 'max': 6.553500175476074}, 'crs': 'EPSG:4326', 'crs_transform': [1, 0, 0, 0, 1, 0]}, {'id': 'B6', 'data_type': {'type': 'PixelType', 'precision': 'float', 'min': 0, 'max': 6.553500175476074}, 'crs': 'EPSG:4326', 'crs_transform': [1, 0, 0, 0, 1, 0]}, {'id': 'B7', 'data_type': {'type': 'PixelType', 'precision': 'float', 'min': 0, 'max': 6.553500175476074}, 'crs': 'EPSG:4326', 'crs_transform': [1, 0, 0, 0, 1, 0]}, {'id': 'B8', 'data_type': {'type': 'PixelType', 'precision': 'float', 'min': 0, 'max': 6.553500175476074}, 'crs': 'EPSG:4326', 'crs_transform': [1, 0, 0, 0, 1, 0]}, {'id': 'B11', 'data_type': {'type': 'PixelType', 'precision': 'float', 'min': 0, 'max': 6.553500175476074}, 'crs': 'EPSG:4326', 'crs_transform': [1, 0, 0, 0, 1, 0]}, {'id': 'B12', 'data_type': {'type': 'PixelType', 'precision': 'float', 'min': 0, 'max': 6.553500175476074}, 'crs': 'EPSG:4326', 'crs_transform': [1, 0, 0, 0, 1, 0]}]}\n",
            "Number of training pixels: 18086\n",
            "Number of validation pixels: 7617\n"
          ]
        }
      ],
      "source": [
        "# Use ee.List for band selection\n",
        "bands = ee.List(['B2', 'B3', 'B4', 'B5', 'B6', 'B7', 'B8', 'B11', 'B12'])\n",
        "input_features = composite.clip(boundary)\n",
        "print('input features: ', input_features.getInfo())\n",
        "\n",
        "# Rasterise training data\n",
        "training_rasterized = training_areas.reduceToImage(\n",
        "    properties=['Cl_Id'],\n",
        "    reducer=ee.Reducer.first()\n",
        ").toInt().remap([0, 1, 2, 3, 4, 5], [0, 1, 2, 3, 4, 5]) # Bare areas, Built-up, Cropland, Grass/ open areas, Woodlands, Water\n",
        "\n",
        "# Add a class band to features\n",
        "input_features = input_features.addBands(training_rasterized.toInt().rename('class'))\n",
        "\n",
        "# Sample the reflectance, elevation, and slope values for each training point\n",
        "training_dataset = input_features.stratifiedSample(\n",
        "    numPoints=10000,\n",
        "    classBand=\"class\",\n",
        "    region=boundary,\n",
        "    scale=20\n",
        ")\n",
        "\n",
        "# Add a random column (named random) and specify seed value for repeatability\n",
        "training_dataset = training_dataset.randomColumn('random', 50)\n",
        "\n",
        "# Split into training and testing (validation) sets\n",
        "split = 0.7  # Split the training dataset into 70% training and 30% testing (validation)\n",
        "Sample_training = training_dataset.filter(ee.Filter.lt('random', split))\n",
        "Sample_test = training_dataset.filter(ee.Filter.gte('random', split))\n",
        "\n",
        "# Print the training and testing (validation data)\n",
        "print(\"Number of training pixels:\", Sample_training.size().getInfo())\n",
        "print(\"Number of validation pixels:\", Sample_test.size().getInfo())"
      ]
    },
    {
      "cell_type": "markdown",
      "metadata": {
        "id": "m14YwlA1Vf3V"
      },
      "source": [
        "## Function for training machine learning classifiers\n",
        "Next, we define and train multiple classifiers for satellite image classification. A helper function, train_classifier, is created to train any classifier using the specified training dataset. It requires three inputs: the classifier, the training dataset, and the input bands. The function uses the train method to associate class labels (classProperty) with the selected input bands (inputProperties). Five classifiers are initialized: a minimum distance, a decision tree (smileCart), a random forest (smileRandomForest with 100 trees),a support vector machine classifier (SVM with an RBF kernel and gamma parameter of 0.5), and a gradient tree boost classifier (smileGradientTreeBoost with parameters such as shrinkage and sampling rate). These classifiers can be trained on the dataset and later used for image classification tasks."
      ]
    },
    {
      "cell_type": "code",
      "execution_count": null,
      "metadata": {
        "colab": {
          "base_uri": "https://localhost:8080/",
          "height": 17
        },
        "id": "ioq-FI4TPLIU",
        "outputId": "27be4efe-6105-4155-b497-d3de63d23d22"
      },
      "outputs": [
        {
          "data": {
            "text/html": [
              "\n",
              "            <style>\n",
              "                .geemap-dark {\n",
              "                    --jp-widgets-color: white;\n",
              "                    --jp-widgets-label-color: white;\n",
              "                    --jp-ui-font-color1: white;\n",
              "                    --jp-layout-color2: #454545;\n",
              "                    background-color: #383838;\n",
              "                }\n",
              "\n",
              "                .geemap-dark .jupyter-button {\n",
              "                    --jp-layout-color3: #383838;\n",
              "                }\n",
              "\n",
              "                .geemap-colab {\n",
              "                    background-color: var(--colab-primary-surface-color, white);\n",
              "                }\n",
              "\n",
              "                .geemap-colab .jupyter-button {\n",
              "                    --jp-layout-color3: var(--colab-primary-surface-color, white);\n",
              "                }\n",
              "            </style>\n",
              "            "
            ],
            "text/plain": [
              "<IPython.core.display.HTML object>"
            ]
          },
          "metadata": {},
          "output_type": "display_data"
        }
      ],
      "source": [
        "# Create a function for training classifiers\n",
        "def train_classifier(classifier, training_data):\n",
        "    return classifier.train(\n",
        "        features=training_data,\n",
        "        classProperty='class',\n",
        "        inputProperties=bands\n",
        "    )\n",
        "\n",
        "md_classifier = ee.Classifier.minimumDistance() # Minimum distance\n",
        "knn_classifier = ee.Classifier.smileKNN(k=5)  # K-Nearest Neighbors with k=5\n",
        "rbf_svc_classifier = ee.Classifier.libsvm(kernelType='RBF', gamma=0.5) # Support vector machines\n",
        "dt_classifier = ee.Classifier.smileCart() # CART decision tree\n",
        "rf_classifier = ee.Classifier.smileRandomForest(100) # Random forest\n",
        "gtb_classifier = ee.Classifier.smileGradientTreeBoost( # gradient tree boosting\n",
        "    numberOfTrees=50,\n",
        "    shrinkage=0.005,\n",
        "    samplingRate=0.7,\n",
        "    maxNodes=None,\n",
        "    loss='LeastAbsoluteDeviation',\n",
        "    seed=0\n",
        ")"
      ]
    },
    {
      "cell_type": "markdown",
      "metadata": {
        "id": "W9vYVLXIa5dZ"
      },
      "source": [
        "## Define the train and classification function\n",
        "This function, train_run_classification, dynamically trains and applies a selected machine learning classifier to classify satellite imagery. It begins by initializing placeholders for the trained classifier and the classified map. Based on the selected_classifier input, the function selects one of five classifiers: Random Forest, Minimum Distance, CART (Decision Tree), SVM with an RBF kernel, or Gradient Tree Boost, each configured with appropriate parameters. The chosen classifier is trained using the train_classifier function on the provided training dataset. After training, the function classifies the input features (input_features) using the trained classifier and clips the classified map to the specified boundary. A predefined color palette and visualization parameters are prepared for displaying the classified map. The function returns the trained classifier and the classified map, allowing for both accuracy assessment and visualization. This modular design enables flexible experimentation with different classifiers for land cover or other remote sensing classification tasks."
      ]
    },
    {
      "cell_type": "code",
      "execution_count": null,
      "metadata": {
        "colab": {
          "base_uri": "https://localhost:8080/",
          "height": 17
        },
        "id": "hay4UZJzOovu",
        "outputId": "193d16af-be3b-48e6-aed5-cac19d9c06d9"
      },
      "outputs": [
        {
          "data": {
            "text/html": [
              "\n",
              "            <style>\n",
              "                .geemap-dark {\n",
              "                    --jp-widgets-color: white;\n",
              "                    --jp-widgets-label-color: white;\n",
              "                    --jp-ui-font-color1: white;\n",
              "                    --jp-layout-color2: #454545;\n",
              "                    background-color: #383838;\n",
              "                }\n",
              "\n",
              "                .geemap-dark .jupyter-button {\n",
              "                    --jp-layout-color3: #383838;\n",
              "                }\n",
              "\n",
              "                .geemap-colab {\n",
              "                    background-color: var(--colab-primary-surface-color, white);\n",
              "                }\n",
              "\n",
              "                .geemap-colab .jupyter-button {\n",
              "                    --jp-layout-color3: var(--colab-primary-surface-color, white);\n",
              "                }\n",
              "            </style>\n",
              "            "
            ],
            "text/plain": [
              "<IPython.core.display.HTML object>"
            ]
          },
          "metadata": {},
          "output_type": "display_data"
        }
      ],
      "source": [
        "# Define a function\n",
        "def train_run_classification(selected_classifier, sample_training, bands, boundary):\n",
        "    trained_classifier = None\n",
        "    classified_map = None\n",
        "    palette = [\"grey\", \"red\", \"yellow\", \"lime\", \"green\", \"blue\"]\n",
        "    viz = {\"min\": 0, \"max\": 5, \"palette\": palette}\n",
        "\n",
        "    if selected_classifier == \"Minimum distance\":\n",
        "        md_classifier = ee.Classifier.minimumDistance()\n",
        "        trained_classifier = train_classifier(md_classifier, sample_training)\n",
        "        classified_map = input_features.select(bands).classify(trained_classifier).clip(boundary)\n",
        "    elif selected_classifier == \"KNN\":\n",
        "        knn_classifier = ee.Classifier.smileKNN(k=5)  # Correct initialization for KNN\n",
        "        trained_classifier = train_classifier(knn_classifier, sample_training)\n",
        "        classified_map = input_features.select(bands).classify(trained_classifier).clip(boundary)\n",
        "    elif selected_classifier == \"SVM\":\n",
        "        rbf_svc_classifier = ee.Classifier.libsvm(kernelType='RBF', gamma=0.5)\n",
        "        trained_classifier = train_classifier(rbf_svc_classifier, sample_training)\n",
        "        classified_map = input_features.select(bands).classify(trained_classifier).clip(boundary)\n",
        "    elif selected_classifier == \"CART\":\n",
        "        dt_classifier = ee.Classifier.smileCart()\n",
        "        trained_classifier = train_classifier(dt_classifier, sample_training)\n",
        "        classified_map = input_features.select(bands).classify(trained_classifier).clip(boundary)\n",
        "    elif selected_classifier == \"Random forest\":\n",
        "        rf_classifier = ee.Classifier.smileRandomForest(100)\n",
        "        trained_classifier = train_classifier(rf_classifier, sample_training)\n",
        "        classified_map = input_features.select(bands).classify(trained_classifier).clip(boundary)\n",
        "    elif selected_classifier == \"Gradient tree boost\":\n",
        "        gtb_classifier = ee.Classifier.smileGradientTreeBoost(\n",
        "            numberOfTrees=50, shrinkage=0.005, samplingRate=0.7, maxNodes=None, loss='LeastAbsoluteDeviation', seed=0)\n",
        "        trained_classifier = train_classifier(gtb_classifier, sample_training)\n",
        "        classified_map = input_features.select(bands).classify(trained_classifier).clip(boundary)\n",
        "    else:\n",
        "        print(\"Invalid classifier\")\n",
        "\n",
        "    return trained_classifier, classified_map"
      ]
    },
    {
      "cell_type": "markdown",
      "metadata": {
        "id": "ykeFs0RjbMQF"
      },
      "source": [
        "## Train and perform classification\n",
        "Next, we train six classifiers (Minimum Distance, KNN, SVM, Decision Tree, Random Forest, and Gradient Tree Boost) using the train_run_classification function and generate classified maps for each. The training uses the stratified training dataset (Sample_training) and the specified bands, while the classified maps are clipped to the boundary region. To visualize the results, the display_map function is defined to create an interactive map using geemap. This function applies a color palette and visualization parameters to the classified map and centers the map on the boundary."
      ]
    },
    {
      "cell_type": "code",
      "execution_count": null,
      "metadata": {
        "colab": {
          "base_uri": "https://localhost:8080/",
          "height": 17
        },
        "id": "1gY0HxscO6T-",
        "outputId": "06f6e1af-7f89-468b-9635-094709e60e22"
      },
      "outputs": [
        {
          "data": {
            "text/html": [
              "\n",
              "            <style>\n",
              "                .geemap-dark {\n",
              "                    --jp-widgets-color: white;\n",
              "                    --jp-widgets-label-color: white;\n",
              "                    --jp-ui-font-color1: white;\n",
              "                    --jp-layout-color2: #454545;\n",
              "                    background-color: #383838;\n",
              "                }\n",
              "\n",
              "                .geemap-dark .jupyter-button {\n",
              "                    --jp-layout-color3: #383838;\n",
              "                }\n",
              "\n",
              "                .geemap-colab {\n",
              "                    background-color: var(--colab-primary-surface-color, white);\n",
              "                }\n",
              "\n",
              "                .geemap-colab .jupyter-button {\n",
              "                    --jp-layout-color3: var(--colab-primary-surface-color, white);\n",
              "                }\n",
              "            </style>\n",
              "            "
            ],
            "text/plain": [
              "<IPython.core.display.HTML object>"
            ]
          },
          "metadata": {},
          "output_type": "display_data"
        }
      ],
      "source": [
        "# Train classifiers and get the classified maps\n",
        "trainedMD, md_classified_map = train_run_classification(\"Minimum distance\", Sample_training, bands, boundary)\n",
        "trainedKNN, knn_classified_map = train_run_classification(\"KNN\", Sample_training, bands, boundary)\n",
        "trainedRBFSVC, rbf_svc_classified_map = train_run_classification(\"SVM\", Sample_training, bands, boundary)\n",
        "trainedDT, dt_classified_map = train_run_classification(\"CART\", Sample_training, bands, boundary)\n",
        "trainedRF, rf_classified_map = train_run_classification(\"Random forest\", Sample_training, bands, boundary)\n",
        "trainedGTB, gtb_classified_map = train_run_classification(\"Gradient tree boost\", Sample_training, bands, boundary)"
      ]
    },
    {
      "cell_type": "markdown",
      "metadata": {
        "id": "XsCl4R3wu9Dg"
      },
      "source": [
        "## Display land cover maps\n",
        "Each classified map is displayed with a title corresponding to its classifier."
      ]
    },
    {
      "cell_type": "code",
      "execution_count": null,
      "metadata": {
        "colab": {
          "base_uri": "https://localhost:8080/",
          "height": 17
        },
        "id": "APC64226qPGE",
        "outputId": "10e78c1c-1b45-48b2-d488-bb48b468f56f"
      },
      "outputs": [
        {
          "data": {
            "text/html": [
              "\n",
              "            <style>\n",
              "                .geemap-dark {\n",
              "                    --jp-widgets-color: white;\n",
              "                    --jp-widgets-label-color: white;\n",
              "                    --jp-ui-font-color1: white;\n",
              "                    --jp-layout-color2: #454545;\n",
              "                    background-color: #383838;\n",
              "                }\n",
              "\n",
              "                .geemap-dark .jupyter-button {\n",
              "                    --jp-layout-color3: #383838;\n",
              "                }\n",
              "\n",
              "                .geemap-colab {\n",
              "                    background-color: var(--colab-primary-surface-color, white);\n",
              "                }\n",
              "\n",
              "                .geemap-colab .jupyter-button {\n",
              "                    --jp-layout-color3: var(--colab-primary-surface-color, white);\n",
              "                }\n",
              "            </style>\n",
              "            "
            ],
            "text/plain": [
              "<IPython.core.display.HTML object>"
            ]
          },
          "metadata": {},
          "output_type": "display_data"
        }
      ],
      "source": [
        "# Define a function to add a land cover legend\n",
        "def add_legend(map_instance):\n",
        "    legend_dict = {\n",
        "        \"Bare areas\": (128, 128, 128),  # grey\n",
        "        \"Built-up\": (255, 0, 0),        # red\n",
        "        \"Cropland\": (255, 255, 0),      # yellow\n",
        "        \"Grass/open areas\": (0, 255, 0),# lime\n",
        "        \"Woodlands\": (0, 128, 0),       # green\n",
        "        \"Water\": (0, 0, 255),           # blue\n",
        "    }\n",
        "    map_instance.add_legend(legend_title=\"Land Cover Legend\", legend_dict=legend_dict)\n",
        "\n",
        "# Create and display the maps for each classifier with legends\n",
        "def display_map_with_legend(classified_map, title):\n",
        "    map_instance = geemap.Map()\n",
        "    palette = [\"grey\", \"red\", \"yellow\", \"lime\", \"green\", \"blue\"]\n",
        "    viz = {\"min\": 0, \"max\": 5, \"palette\": palette}\n",
        "    map_instance.centerObject(boundary, 12)\n",
        "    map_instance.addLayer(classified_map, viz, title)\n",
        "    map_instance.addLayerControl()\n",
        "    add_legend(map_instance)  # Add the legend to the map\n",
        "    return map_instance\n",
        "\n",
        "# Display each map with a legend\n",
        "map_md = display_map_with_legend(md_classified_map, \"Minimum distance classification\")\n",
        "map_knn = display_map_with_legend(knn_classified_map, \"KNN classification\")\n",
        "map_rbf_svc = display_map_with_legend(rbf_svc_classified_map, \"SVM (RBF) classification\")\n",
        "map_dt = display_map_with_legend(dt_classified_map, \"Decision tree classification\")\n",
        "map_rf = display_map_with_legend(rf_classified_map, \"Random forest classification\")\n",
        "map_gtb = display_map_with_legend(gtb_classified_map, \"Gradient tree boost classification\")"
      ]
    },
    {
      "cell_type": "markdown",
      "metadata": {
        "id": "HVPdhM-pbv_s"
      },
      "source": [
        "### Minimum distance-derived land cover map\n",
        "Display the land cover map derived from the minimum distance classifier."
      ]
    },
    {
      "cell_type": "code",
      "execution_count": null,
      "metadata": {
        "colab": {
          "base_uri": "https://localhost:8080/",
          "height": 621,
          "referenced_widgets": [
            "3fd43fd2188a4d2db40ed967bbff4e64",
            "d6c4fd87aa954c7ca11ec202c0e52499",
            "3ae0d632bfa449be91c0f11ad1457540",
            "86275e6b80f341a29969822f2fe84f85",
            "a163344ac83c42f8a591fe870daa814a",
            "f4e276dc416141aaa5d547ed313fd4b3",
            "b245aa7c5fef4eba8d46b2c20817e546",
            "4b99c35d5be5452e889ca3b9733b3076",
            "0ee24d97b1cb4d26860f0dc46ffa3fc8",
            "7273a31664544877a7c5d3276b4a610b",
            "435316bd3c8642b9b97a47e3e8e5b902",
            "b667af49c2bb4194921f14e7a60face7",
            "f16cccc02a3a4e309b4a94b34c17d803",
            "f03bcf91f5d546e194db6480454dcd9c",
            "37832f728c964dcb9423ff64b9f2f448",
            "afec524544c242969d8bf75c67441cad",
            "60233bbdbb2a4f4aa97b8abf4fcd911b",
            "4ebdeea9e5d34e09894e3e7b8e213690",
            "e81046a18e7c41b89342ec14ae6ae86f",
            "35d25e9ef467477985103798a0a7c9ae",
            "bb2fec597bae4e7a89ee913e280162cf",
            "d7c537c3ff464be19e1202469165cb94",
            "2bdcbb5495bf48458476f543c5cf63fb",
            "4623773e1de34c39bd58e8bb77e33907",
            "c33df3a0c61b4d67911b940a9ca15877",
            "b19e4a8b5bee40dcac59e35783808f12",
            "646d57365f864b5f829492ccbb8ec5d7",
            "aa2cd70d04914631a7f078e89f047180",
            "98d0a8a2c8a143229855973c7dc47d17",
            "b9c02fd1e2a74e32957c792d0d135846",
            "f07c54bb007740cf93a10870be8f90d9",
            "daf6c53be46d480fa10de3c60c8236f4",
            "3a8a45be2f064f5aac8fa84f55ff36dc",
            "b5339ecf6a8f4557ba711508edd353e5",
            "71bf31a24198429f9dbb6634ef2e099b",
            "d9c36ad9a13247b2b49d6bded5296788",
            "91018516eebf48dea3deee3faa608aef",
            "3933affc2f1745e5a48e68e05d7855d6",
            "c45bafe872ca49a9a68dce21be1e11ca",
            "f262f2855cd44bd9bd46d4c80b8a19ef",
            "f6acf3ff0cdb478a922f5bad59d7aeb3",
            "8503d96f70ca411ab392f4feaec10f84",
            "391d97b0aaa04373a22d694c9a4a12a7",
            "42169312400e490aa6c24be0b5c90d19",
            "4094c6ad8a0d48d3934f3a7588975fa2",
            "f5a5e950f9284f548fe848889a36d17c",
            "4880ad982e194189817afe3f292775cd",
            "dcefc8a043ac44c9ae59a4731df11a8a",
            "ea771f59f92243ed97d775614a301f53",
            "53ba68a2ca504eb8be6265f5e1145881",
            "fd0113c743014124986394aa431124a7",
            "7a5afe4eab324950a340af7f255772de",
            "64c603f53dc84f298a0bd537ba35700a",
            "ea2dd106be084e99b66429e3d5298f89",
            "0c7b56bd3d9a4bea82c1eabb1e76e5a1",
            "8f124ea3b1f94a919cdf10e19e3e3570",
            "bc570689d2d74261ab94573ccf5e7b2e",
            "e9066c7d47584d64a432e815540e37d1",
            "b4026b0e7d634074aa94ac9a4ade0349",
            "20a715b510474bee835d8ece8151c6b4",
            "f97e3789bde74e909537f5d3964da062",
            "8a237700844444c3aa34fd87c370e11f",
            "a5f4e3d7b30f4a28ac519b59758de15d",
            "230aee8ec47048d49e05baef41e4ff8b",
            "eaf12ae54c5b4c6b908659e51338864b",
            "7fab62ca84144a8b910692d9d8276286",
            "34e5db3fba134d29913ca554c1714c5a",
            "922990bd998b48f89a80e2e4eb1fefa4",
            "eaea66f1e2bd4686b03f07954a9c2383",
            "3cac8e27a7874edca11c2c84b5121b35",
            "083ff20a3162417f9714484f1940ddf9",
            "e9fb49be06304859bb9ea22daf3d531c",
            "4ae583979f3e475c81e6547d4c884de9",
            "ad12b0620a80413981ebdfeeb477a687",
            "50fd017fdf9f4753b101fd1d094e3044",
            "5b86321e57b445558ef0a8fc912cb2d8",
            "66f61b3f4e7e45ebbf73211571d26a4b",
            "0decf9e618f6424b90e2c33af6013c14",
            "45dccba34b974a3eb652146803c9ac04",
            "ce8a4ce221d14163aa77724219241262",
            "1e1c9e7db767414992c5aa19a579f53d",
            "f46822a7b7d94d1ebb530edc4f8e4321",
            "ac5a69d581d84cf98a85d9e0f47548de",
            "7035e3acbc3844a1a1ed81ceb3be37b8",
            "03dd162d3524419a9e83b1ab185e1db8",
            "c4baea7c4f21430fa7aae4ade2f2023a",
            "6f5cd090e6774f18afe32b32e420eb19",
            "017cbde81f8e44dd95c22f3aee8ca645",
            "b5ecef2203504881a6bc37727a9f75c3",
            "4175296e907941fbac5ed32b2cbe5e29",
            "d23a9237f2bc46d99a863fef102f58e1",
            "da08ec7866f04493a5ba4c4f7ae17f22",
            "0ea17cd1852e44209f7284448ad0dd85"
          ]
        },
        "id": "JMCzruJBNcoO",
        "outputId": "199bbd5f-8b5e-4fb2-a2f4-3cc9413b7a7b"
      },
      "outputs": [
        {
          "data": {
            "text/html": [
              "\n",
              "            <style>\n",
              "                .geemap-dark {\n",
              "                    --jp-widgets-color: white;\n",
              "                    --jp-widgets-label-color: white;\n",
              "                    --jp-ui-font-color1: white;\n",
              "                    --jp-layout-color2: #454545;\n",
              "                    background-color: #383838;\n",
              "                }\n",
              "\n",
              "                .geemap-dark .jupyter-button {\n",
              "                    --jp-layout-color3: #383838;\n",
              "                }\n",
              "\n",
              "                .geemap-colab {\n",
              "                    background-color: var(--colab-primary-surface-color, white);\n",
              "                }\n",
              "\n",
              "                .geemap-colab .jupyter-button {\n",
              "                    --jp-layout-color3: var(--colab-primary-surface-color, white);\n",
              "                }\n",
              "            </style>\n",
              "            "
            ],
            "text/plain": [
              "<IPython.core.display.HTML object>"
            ]
          },
          "metadata": {},
          "output_type": "display_data"
        },
        {
          "data": {
            "application/vnd.jupyter.widget-view+json": {
              "model_id": "3fd43fd2188a4d2db40ed967bbff4e64",
              "version_major": 2,
              "version_minor": 0
            },
            "text/plain": [
              "Map(center=[-20.112185699155855, 28.554695214742292], controls=(WidgetControl(options=['position', 'transparen…"
            ]
          },
          "metadata": {
            "application/vnd.jupyter.widget-view+json": {
              "colab": {
                "custom_widget_manager": {
                  "url": "https://ssl.gstatic.com/colaboratory-static/widgets/colab-cdn-widget-manager/2b70e893a8ba7c0f/manager.min.js"
                }
              }
            }
          },
          "output_type": "display_data"
        }
      ],
      "source": [
        "# Display the minimum distance classifier land cover map.\n",
        "map_md"
      ]
    },
    {
      "cell_type": "markdown",
      "metadata": {
        "id": "FyEULECkaDfy"
      },
      "source": [
        "### KNN-derived land cover map\n",
        "Display the land cover map derived from the KNN classifier."
      ]
    },
    {
      "cell_type": "code",
      "execution_count": null,
      "metadata": {
        "colab": {
          "base_uri": "https://localhost:8080/",
          "height": 621,
          "referenced_widgets": [
            "1cec336cbac44d859ec2bd2ed7526f71",
            "5b9458918bdd42c9846078ffed97d06e",
            "61f2b31252c84a5cae58b710b1a52cce",
            "d29bc3d54ace45e182384c2e95410252",
            "5730486810d847c282d1260caae8d0f1",
            "6a9d9d1231d34421bb567171375b2301",
            "c1669c7b535e46818782e804ce035cb3",
            "4dad4726c1ac4ef3bbb204bb851e659a",
            "bb1a65a4a34145d0b8f072f5c8b76fb5",
            "3af4923f1740449ab3189f06f7fe0184",
            "5f63cff823e9444baa93a4d372952181",
            "2796fa364fe047909c9f65e387772347",
            "08f5b08eb30347269d1843a20cdefa64",
            "ec7e8695b2744f3eaec7b55e23624703",
            "9b7663f469944f3bbef7479506a7046c",
            "86493384e2e84fbcb74d1802194a5ca8",
            "1eb3c0e298d042249d532e5b9e59441e",
            "b4d14887854a4174844f54d6afbb0aa5",
            "28feca36fb8f4396892f3f63ae900002",
            "04a3bfc0d280416ab5537a3c42f15c9d",
            "83fa4a7d196c49c7903c8a7760144692",
            "9540bf7a5fae41ac9a5b6667976c31d4",
            "06629ddeb8c0474db956fa819e5d1514",
            "9bd665f675774002b9b2ee04663f7d9c",
            "32d1552b524b4bb69b936587e4c6e174",
            "ee616060456b4d4389399d724b3099e5",
            "0a98b46807f34264a5bc12454fe4ac85",
            "14d6f6ed45f04995a3c2054871be0fc4",
            "7932781f4b6f4d63aa86ff7498e59315",
            "d1d6806825c842ca8537e8a7fde839c0",
            "39c755ac89624d79b5ad1013380410e7",
            "2815630a1b9248f989601e97130d9fe7",
            "e0d21fd991e540b9b4429c4d2e211136",
            "40e59d868b0940dbbc834904da85f45d",
            "6b2ebed1ed874961bc12d9a5d4ac67e0",
            "35dc80687c784dfd83afcb07b59d0429",
            "058bb8674aa642cb98c13773380491ab",
            "1d1866eaff634afc9348a5ac7fec305f",
            "6601230eda984b7c80d5bbd5989c6ea8",
            "114dd68a5a414c8cbde0480a27f42f2f",
            "4a30be50565e400ab859be0d2415bfb4",
            "76f1ada8ae8b44be9fd52ac359a56dff",
            "0880ac3926f4417e81973c885c9e10f8",
            "d48e0fd8b7fd45ff99dd1b61aee73e57",
            "d96680fd83fc433eb0bb5b58cc50c8b8",
            "1416585a4f3a4345889f96a759081099",
            "b8556b8495ec49c78de4f4c51902e527",
            "1a2d40cd866b41bcb9f4d04d5bec0251",
            "0a8949019bf54a77916f2a00e91d7cdd",
            "88ae5b27f5004d63b2dbe561fcdb519c",
            "c023eea29a274f849122759dee2c6d8a",
            "fa84f3db09e9476b95016c6b2cb39004",
            "adc4563c2fdc42bbb83f6670d931a1ee",
            "3a1d3b4a95d240cc8d10b999de471f6a",
            "00292a4005524f078dfc3a5dc258266e",
            "dd1b91f7d97c434cb5444c8ccda1209d",
            "2b6cc8da38784389baa12b09a4e0ff62",
            "618c130f355b4e9d991e32ff638298a5",
            "88dee21f594b480e957444b9ff716417",
            "3cf9ed2162a94ee9a13be87c4141b5b3",
            "c95f74e0e1584b3583339753e073631b",
            "f2fb43983af84df5bc1cdb4cdbff6919",
            "1e3ff3bf90d04e4898cf184ac870f106",
            "c7040e70490e42f2a8f19d641be9d44f",
            "a5222ccf943c4399824a3559f6eaf9b6",
            "7737e8dbbad7435bb27063c080e318f4",
            "08ec557b138049f29f6bbd1c75f69436",
            "f24da6cb3b6943a59891b3daa341b526",
            "7becf62058c34ed995c31c80e825ab60",
            "3b4d794f8dfa450c8d4a57402042af7d",
            "a912755a10874e4eb60ad76df56e4610",
            "aa4a834c79fc417eb7d50a2bd015dd52",
            "b7fd7bf312314a2585083f44e5fdaf08",
            "bff3aa8fd4204f65809d818035ee9b71",
            "174ff69697124ef7ab3505a4aa8af25f",
            "3cbdf2b75e634313a4e512d7969aa2d1",
            "53043c71a73e4fe88f857682684b5f8e",
            "1fbdfd2e077e4478b31ab2d73ab39da6",
            "792030dfcdea41a3ae509818f4e9eba1",
            "d2b82b0e9df24ddb939c717eadcfd7b7",
            "82e0cf5bd60443f1b190bb8fb1290f1b",
            "6d5d969224024f4a974b6b28846d4f0f",
            "2d9847a36ea34206aa1f1aeac6aeb3f8",
            "081ddea35f5c4b9db52d6d415dac3740",
            "83a2258028b64cf3bbe5cdb46ace5c0d",
            "ef40914bc38244a4ae3d2556b40c01c1",
            "fcd256692a2042bd8f4ec1ec73f79511",
            "dec40d94629d4419a9eef79e657f2236",
            "72045f7b176e4c40b0762f6bec3a7f31",
            "61c6c84f8d5f4f60a2098342eeafc69c",
            "14afd6cac72540ee81b7e63ac824cddb",
            "fb67d3bb18df4d4cbf51666ae16f89fd",
            "4d219d4edf9f4a8fa8ba69f5f298bd02"
          ]
        },
        "id": "MvEUfANBaHr8",
        "outputId": "fbb2b464-7aa1-461b-f82f-d8f368d71ef5"
      },
      "outputs": [
        {
          "data": {
            "text/html": [
              "\n",
              "            <style>\n",
              "                .geemap-dark {\n",
              "                    --jp-widgets-color: white;\n",
              "                    --jp-widgets-label-color: white;\n",
              "                    --jp-ui-font-color1: white;\n",
              "                    --jp-layout-color2: #454545;\n",
              "                    background-color: #383838;\n",
              "                }\n",
              "\n",
              "                .geemap-dark .jupyter-button {\n",
              "                    --jp-layout-color3: #383838;\n",
              "                }\n",
              "\n",
              "                .geemap-colab {\n",
              "                    background-color: var(--colab-primary-surface-color, white);\n",
              "                }\n",
              "\n",
              "                .geemap-colab .jupyter-button {\n",
              "                    --jp-layout-color3: var(--colab-primary-surface-color, white);\n",
              "                }\n",
              "            </style>\n",
              "            "
            ],
            "text/plain": [
              "<IPython.core.display.HTML object>"
            ]
          },
          "metadata": {},
          "output_type": "display_data"
        },
        {
          "data": {
            "application/vnd.jupyter.widget-view+json": {
              "model_id": "1cec336cbac44d859ec2bd2ed7526f71",
              "version_major": 2,
              "version_minor": 0
            },
            "text/plain": [
              "Map(center=[-20.112185699155855, 28.554695214742292], controls=(WidgetControl(options=['position', 'transparen…"
            ]
          },
          "metadata": {
            "application/vnd.jupyter.widget-view+json": {
              "colab": {
                "custom_widget_manager": {
                  "url": "https://ssl.gstatic.com/colaboratory-static/widgets/colab-cdn-widget-manager/2b70e893a8ba7c0f/manager.min.js"
                }
              }
            }
          },
          "output_type": "display_data"
        }
      ],
      "source": [
        "# Display the land cover map derived from the KNN classifier.\n",
        "map_knn"
      ]
    },
    {
      "cell_type": "markdown",
      "metadata": {
        "id": "ZyQ1q2oXdDQc"
      },
      "source": [
        "### Support vector machine-derived land cover map\n",
        "Display the land cover map derived from the support vector machine (SVM) classifier."
      ]
    },
    {
      "cell_type": "code",
      "execution_count": null,
      "metadata": {
        "colab": {
          "base_uri": "https://localhost:8080/",
          "height": 621,
          "referenced_widgets": [
            "67c739dd9dfd437f89d007e75a14a978",
            "bc703632e94049dda2341c463ea95a1e",
            "53f150cb72634da4a32644ec56d3dc73",
            "6948725a9d534a10986313cc30a961b0",
            "e0d98c81cd9e496a8b5b5acdb2956013",
            "f021b639daff416c89d9774ea3001f77",
            "56e6995297b845e1962f11691e8ac33c",
            "fc48bf4bf5754760baf64d781d10c749",
            "f1a83cdef5a24f98bacff2702f34e084",
            "101bb9b4ffda4b13a5ddb782cf17713d",
            "a2e8c6fb437b4f9ab7a01ad43812bf45",
            "36a0616c547f4a20843c9f1242ed32b1",
            "0ff5c719e6314efb8081768027a97fb7",
            "66634573fd1a43fd9bbe3168e309c0db",
            "fe24fcbe37a848399ba916835e25488e",
            "9f85168084384708ae5f1d7d529ab46b",
            "e01d8e1a2f24494181119fdb87bc9f9f",
            "13a6fb091efd45f7aa7c7d97a25aa724",
            "687c86b235424b6b8e456e69b9d1224a",
            "acb043bade1c46abb85677abe1cec6c0",
            "37886f23d085464c99ab1be7ca491568",
            "01e6e0ebd0314ea8a6090f7a7ece80f1",
            "0be7b33e2a054a809e76284d6753995e",
            "b10e54e6c3234bfba8b8bbffb7355626",
            "d1fd3f8bee0f4579bde35f03ce51847b",
            "07a251eaa14046b69bdae026b7cea27b",
            "6b58bfc53f1248188ddfe11943b35ef1",
            "7fa01d697c254215ab83943b4dd01ef5",
            "3a0efe956fde4940a9ec8143ce5e9faa",
            "d0920522511444f19b6704f0f1072d68",
            "50663b8a9eb9431191521e85af69aea6",
            "e915d67b13074f9caac3813086ce90da",
            "a02212f54f154c83905891188049f582",
            "a2b2a91a5e4f4b63b7d0a7aea2d87963",
            "402f9fee5c36447db4ef8fb0d3c67c61",
            "82269eaf69c545fc8f11e9e6597eb535",
            "0101e6d19455446f8496a8a53e57d720",
            "1dba743f7556466186501f4aceb2dd60",
            "02c20085b6f84bf5a13fd94cbcacf27b",
            "faa3e7aed68c4fc0a9af2e3a52f5bb24",
            "bf821581e5914e0e9da56380ddf47dbc",
            "3e3a946ed360419f95d616b2b50d565b",
            "83931bceda53498c92627d04e1fb91bc",
            "55a674fc601943a8ad67cbc7425f85da",
            "90b8fd50eba74c669726dbe7d4f31c05",
            "77dbe677e7004f54a05e70993a3a550d",
            "a349f64add6a49b9949ab95e117fcd84",
            "c6c1eb93bd804cd8979b87507c7286e9",
            "af52152720e14dccabc7dd156ff73eab",
            "7dfa867ca40949f4bc509c563b095269",
            "b2da8823e66b46c5ad7afc24ea8c3a49",
            "a0488238d66147b69b3ea9dca470273a",
            "e16d916d062d4b5a996b2007ba5b69c0",
            "ba2714c2e151435fb744e4227f2d1fa4",
            "0a24943ff36e4ef99e35c10f1cef1d11",
            "5a16236a642e494096b280bd8757258f",
            "2db168893de34c8694ad11832acc18d7",
            "27e370ef169d45ecb265fef812c218f3",
            "251ffc2077334b1db35eb0435d29d827",
            "75b9321a0bf54516907afbb41946bbb0",
            "17d83033220f4e07b2fd3f4ac1d693fb",
            "5a768978a9fc45069735e60fc75f1036",
            "5d819d72c4bc40d2995efb7481d08487",
            "62395b20a34a4b9fb35dd7f8b8337da3",
            "4d773c22e96248be81dacc07489747dc",
            "f9706d63e4194f4fb39fd54325edc38c",
            "dbd6e6b3f0fe4d96b386090ed8b941d5",
            "f4007be9be1e495ca06afd27bc01f545",
            "dada0620a6874f8ba3a6852137198e7b",
            "43502cb5adbe4e0099c29d5d51b65bff",
            "4ade49154f3c45afbc866bcd66b770e4",
            "5319c023aa5540c2899cac1b1c6fea96",
            "6705c6cf01694baf85c362418c940fab",
            "a7ab12e9589c4ca9b55a9473ef437177",
            "0a3319b3ea60473cb62820bb893b2818",
            "9272ce16f0bb4f62b0241171a2000859",
            "77bedc86a7644776a2391e127cca3cd9",
            "9f8c8cb975ac44a6bcfc5e2b88fbc88f",
            "a306234eb672425bad46ae3949fa2983",
            "3342d4ff8e6a48759c6c117bccd4c50b",
            "04718da1beba4645b7672f9ebd4dd5c7",
            "021b87e97b984bb1b9f911b32f478cb6",
            "2632fdc62c39445ab6833b5763075a12",
            "8e83df911b5f4ec49a5dace9d3b21213",
            "ce82fa1567024cc3b0c83ee5f712a3b6",
            "2496f2ebba8d4c6e93673b062dc1a712",
            "0443295674734ba99f9dd6eb91268d00",
            "37c8c3acebbd400fac72388a847855fb",
            "05505f7623ba42f08a40781b756b31f4",
            "3e3c53ae45a141f898ed444334778460",
            "8eefb08fc35d44999d8b89431a655c49",
            "d644fec96e81405a92b3269bc713b1f9",
            "3ae941efbe644aa3b137a1b859ff9622"
          ]
        },
        "id": "mGs8KOW4NqS1",
        "outputId": "0f7bf0c7-1e9f-4be7-fc86-1b59441ebb11"
      },
      "outputs": [
        {
          "data": {
            "text/html": [
              "\n",
              "            <style>\n",
              "                .geemap-dark {\n",
              "                    --jp-widgets-color: white;\n",
              "                    --jp-widgets-label-color: white;\n",
              "                    --jp-ui-font-color1: white;\n",
              "                    --jp-layout-color2: #454545;\n",
              "                    background-color: #383838;\n",
              "                }\n",
              "\n",
              "                .geemap-dark .jupyter-button {\n",
              "                    --jp-layout-color3: #383838;\n",
              "                }\n",
              "\n",
              "                .geemap-colab {\n",
              "                    background-color: var(--colab-primary-surface-color, white);\n",
              "                }\n",
              "\n",
              "                .geemap-colab .jupyter-button {\n",
              "                    --jp-layout-color3: var(--colab-primary-surface-color, white);\n",
              "                }\n",
              "            </style>\n",
              "            "
            ],
            "text/plain": [
              "<IPython.core.display.HTML object>"
            ]
          },
          "metadata": {},
          "output_type": "display_data"
        },
        {
          "data": {
            "application/vnd.jupyter.widget-view+json": {
              "model_id": "67c739dd9dfd437f89d007e75a14a978",
              "version_major": 2,
              "version_minor": 0
            },
            "text/plain": [
              "Map(center=[-20.112185699155855, 28.554695214742292], controls=(WidgetControl(options=['position', 'transparen…"
            ]
          },
          "metadata": {
            "application/vnd.jupyter.widget-view+json": {
              "colab": {
                "custom_widget_manager": {
                  "url": "https://ssl.gstatic.com/colaboratory-static/widgets/colab-cdn-widget-manager/2b70e893a8ba7c0f/manager.min.js"
                }
              }
            }
          },
          "output_type": "display_data"
        }
      ],
      "source": [
        "# Display the land cover map derived from the support vector machine (SVM) classifier.\n",
        "map_rbf_svc"
      ]
    },
    {
      "cell_type": "markdown",
      "metadata": {
        "id": "eGVPUulpcqAk"
      },
      "source": [
        "### Decision tree-derived land cover map\n",
        "Display the land cover map derived from the decision tree classifier."
      ]
    },
    {
      "cell_type": "code",
      "execution_count": null,
      "metadata": {
        "colab": {
          "base_uri": "https://localhost:8080/",
          "height": 621,
          "referenced_widgets": [
            "fe641a597c25483bbae2054ba3fbcdbd",
            "1af6c3351c9049708c48579e2d36d378",
            "deb89afeeb7840ef9ae7490ba985ba5d",
            "0fdfad43e92d4491921046a498cf59c7",
            "3caecbe777204d888f6db4864b135d32",
            "b935afd84a3e4bc5999de6949a647e89",
            "ecd7191fbf78483d8a7bb004a08cedca",
            "33485f52eacf487ead2110640ff875eb",
            "76f96c1a508a4f09851108555c78c30d",
            "e180667cf1364883bbba53fad903242a",
            "33298140acaf43fc8f8c07186039cf52",
            "a29f2b706f8543d7ac509dc08d9920ba",
            "a12f417ec0ae4bb2b3beb818bb8d335f",
            "dd6fa74a9db34f3b93ac77dc5735daf5",
            "c5b493cb228e4638a271b8f8e288448a",
            "31926f02da914b2d8f00b081bf91572d",
            "68f0fd0f834743cfa1404874e2a7e231",
            "4527a734dceb4ac1884a4732c98d0fb4",
            "c272814f9ea54ed9842194346305a502",
            "4f7bcfefc1ee404f8f3c8ef7046ac190",
            "10dfd7553e864492ba3d848d8e58b62d",
            "67026b827b5944ca866d88ad89d19e48",
            "8e47c738eb384eaea425d718a633006a",
            "edb15afd4c84456481b4b364f755cb3e",
            "e2d691a3961541719bb050b0d1a2ff78",
            "3604950ddddd420491ff62e7edf94ff3",
            "6cdd2d38f1614614ab0d7e4756e425b5",
            "d7505955b0fa4983880717d582e2d386",
            "b58db6868fd741aab2d3cc3f09e8ba50",
            "27451a309ac34354a4210d8b34bade18",
            "c0950e84a2c943b28f576dd8c8c9faea",
            "cbc6ab0bbc1743028bc2f8dcb3def4f3",
            "cd3a03c22aad458cb9fae53747e0af54",
            "9f978bae71b643beb9c4da426daed233",
            "b48897efc31349c29c7e7e8e9650825b",
            "8db9baa2d4604ce7b1c1a5c1fa5ccd81",
            "b8806e9bbb374df3ad282de08542c07f",
            "a30bf672e14b40399014677fd56949ae",
            "fbda7a3fde1c4e2e959e0573e433d675",
            "a7bcead67a944661afa90adf41118bd0",
            "d986faaffe5f4388b4c5d7e9a4a34ae5",
            "2f0905ac675647508fb6d9ad88f1586c",
            "776e8b2124d8437289462486eaf2618d",
            "d382163532464edb8518f29358f16266",
            "df1e07e9c5ef4f0cac22a53fef732312",
            "c9a78635fe5846a5a8d0f79000e2bf7d",
            "14b84411ba2f4b44812c51e9698ec111",
            "0e50a136b4654c9da415af968f952abf",
            "977244954d8142bd8697151182511ac1",
            "4f3a9777705b4de38053b3de1d8a9392",
            "173e9607cbc245969683d6f2e44ce252",
            "9b1bfb6e559f400aa4e27b6595647e4f",
            "4392a9eb6e2242d493396ba5c8a232fc",
            "9a18e7c949f94016acbd578db0e94375",
            "5d3d860531544328a3f93da81ce42672",
            "bfa7878881bc42459899a274b442c87e",
            "42d7bfe57dfc41e0b84451263ef9c13f",
            "7f1c902ffa62442793cdb053007b79d6",
            "1be9d5c706674e0eb12e0fe1eeded1ec",
            "7e69bd0968ed4c6382766b012346b7d2",
            "7c65616b44fc4e93a2318078592c01e5",
            "10423884ec174aada42627c403048143",
            "7256d3ff6d204e6d88008948abd4c56d",
            "9719af0493d94eff96a78f3d874e696f",
            "6c57f134663a439896910de18837d890",
            "ff848fa559a84c00944c9e2abfc185b9",
            "adc1d9601e0845988b96391d2bf70c1b",
            "879eebec437a4fa6a2ba13fbd2b03734",
            "ac4d8a38f84c4927902d91b3fcbcd99a",
            "05c73d3b21124a62be2fd49f19a3d36b",
            "c32def5aae84404bad45510483fa4096",
            "9b6c041206ff4e6faf14e36ee71b3994",
            "42f978c1ef4c4771a1fe84d70df575a4",
            "a4bb97997cf2431cb69e9007b5a365f3",
            "23e2a44e9a084ffda92efaa12aa9823e",
            "15f02f39d7aa4ce58ec73f0ef2015b47",
            "dbf38e3624244813b96b460549c5a85f",
            "377026a77b69467991fe8d6c31ecaf87",
            "395b0fbb41e34843a1e66226cd41054c",
            "75a8b7cd8b5647348445923b220e175f",
            "4bdf79297b4647d3bc79708bd04730bb",
            "9a03d608d04347e597ddc00dce88a089",
            "2ec22e29f39c48b28cd273e36ab1fe3e",
            "ebfb1fd0a521468a97c4d539c94f295f",
            "d585d4b7e4bd46749996c1ac3273420a",
            "4801cc91a3f84e339d541db989baf1fd",
            "3df5b5f3d3774baa9bad32d6bd9da4f2",
            "a5af0e5eee91465687736fa0d322789a",
            "8812ebef9a3445df9e90224984bf4856",
            "c169b7518f9a43c9bf95faf8b90ffb68",
            "4d968140877645c29ede14798b6163ad",
            "fdebe8d6ca46437894ee9670ace32014",
            "f5105f32f2464f67b3d83234325b3dd0"
          ]
        },
        "id": "v37v9cVrNguW",
        "outputId": "77056586-c100-48b5-fbf9-691190917b60"
      },
      "outputs": [
        {
          "data": {
            "text/html": [
              "\n",
              "            <style>\n",
              "                .geemap-dark {\n",
              "                    --jp-widgets-color: white;\n",
              "                    --jp-widgets-label-color: white;\n",
              "                    --jp-ui-font-color1: white;\n",
              "                    --jp-layout-color2: #454545;\n",
              "                    background-color: #383838;\n",
              "                }\n",
              "\n",
              "                .geemap-dark .jupyter-button {\n",
              "                    --jp-layout-color3: #383838;\n",
              "                }\n",
              "\n",
              "                .geemap-colab {\n",
              "                    background-color: var(--colab-primary-surface-color, white);\n",
              "                }\n",
              "\n",
              "                .geemap-colab .jupyter-button {\n",
              "                    --jp-layout-color3: var(--colab-primary-surface-color, white);\n",
              "                }\n",
              "            </style>\n",
              "            "
            ],
            "text/plain": [
              "<IPython.core.display.HTML object>"
            ]
          },
          "metadata": {},
          "output_type": "display_data"
        },
        {
          "data": {
            "application/vnd.jupyter.widget-view+json": {
              "model_id": "fe641a597c25483bbae2054ba3fbcdbd",
              "version_major": 2,
              "version_minor": 0
            },
            "text/plain": [
              "Map(center=[-20.112185699155855, 28.554695214742292], controls=(WidgetControl(options=['position', 'transparen…"
            ]
          },
          "metadata": {
            "application/vnd.jupyter.widget-view+json": {
              "colab": {
                "custom_widget_manager": {
                  "url": "https://ssl.gstatic.com/colaboratory-static/widgets/colab-cdn-widget-manager/2b70e893a8ba7c0f/manager.min.js"
                }
              }
            }
          },
          "output_type": "display_data"
        }
      ],
      "source": [
        "# Display the land cover map derived from the decision tree classifier.\n",
        "map_dt"
      ]
    },
    {
      "cell_type": "markdown",
      "metadata": {
        "id": "0KPEBiZVc2S7"
      },
      "source": [
        "### Random forest-derived land cover map\n",
        "Display the land cover map derived from the random forest classifier."
      ]
    },
    {
      "cell_type": "code",
      "execution_count": null,
      "metadata": {
        "colab": {
          "base_uri": "https://localhost:8080/",
          "height": 621,
          "referenced_widgets": [
            "b087103b6be2427980d1a99e706bec61",
            "a9dcf2abacfa431e980dae4d2820e215",
            "f378bd34db4b438d9c842b3f1c75b00d",
            "311fbffedc13435d94d4c8198c8871bc",
            "3d41c39c597d4f758936fabb421ed0ca",
            "bbe0dd2035144ebe9c1fa9145cd139a4",
            "3211837d3715439db394354de8c71168",
            "bdf62f28f8914f2faf17cf423964f68e",
            "88361116b4ef482d9a42293d8c20c60b",
            "d0ca765ca0574117af77350d59d54303",
            "2a3d91cb7d9b407ca6e906e302fb3cd9",
            "da09d34423e64adb9ba88711fe744845",
            "151392bf0f6443abb0740427f6618951",
            "016e25fb0944469ea38918c31c932765",
            "ffa602e98f844228bea1af99cbc90cba",
            "32fc3330bb02435db07bb7eb036ec39b",
            "7bb2567d67ea45a78b1d66aa381b5bc0",
            "c25636c5f80f43b7826d3ca039b590e1",
            "38e6669ba91a4316ac6533be7d2cbee4",
            "506cbd2b9c1f401cb31f78a2410e0bda",
            "a1bad3bf9e6142eca3831f4f8e75da6f",
            "af44288e06194298b1c8f886a9475908",
            "263230722b01465db8633b6c118b18c6",
            "4cd7086b6b4a4bf08d80e156988a9dd9",
            "8d7b0247ede74adeabff19c50fc37344",
            "d7874bdb45d74171baeeb63c5031912a",
            "f797ef09385e471ea304de22d54b4736",
            "188c5d00669e40cfac6b4a3be21aaa3d",
            "893d7913364e42549a4b0aaf50338275",
            "e0ae98b6585a4d9bab1b202b66507efd",
            "76036a46062c4d6eb8c3d87a73fda4bd",
            "9bc7169e4fdc48748db0591207042caa",
            "0167d3773e194938ba486e8546056818",
            "243968ba5cec42b7acca68d20a91a70f",
            "2707771a3ec44fd6997803a8c55a0cec",
            "8267c7e92be14f67bd4107b64986fb47",
            "1caf4353db4c49f3a5a5e8381202042d",
            "f32626f86aa54e8391c94bf0f5d2206f",
            "f543a9e666e64bf1b2c1c4d59a60773f",
            "10c782c3eab743ab8d48637060416fff",
            "bcf77ad689324128bf5d4d55b7c60ae3",
            "00162b24ead84eefa4502b802f5c76b8",
            "863f47ec7cef40fb90902575840f1808",
            "0b6a4eec4acd41879bd9d8e555aaf7c5",
            "754dc31c5cd141a39b61be638bc5778c",
            "b34ca13e955744df8ad213ff38884363",
            "279f340d8bc242b29d9c3eefd16636f2",
            "104e9a9bada9450fa3bb84aada5d295d",
            "b5ab85128c534e92aa7971628c35992a",
            "7e7501163a384ab19520d07cfea06968",
            "c8475fb69732408e933b8344deba5869",
            "01e41a42240c436abcb66a091199442a",
            "f50737457f4545e2918ec56db2bbffe2",
            "7a98a11897504860afd8554eb54b1f1c",
            "33b51acc31cd44cbacecc860a0af4b0a",
            "db57129bfbda4e3d8bf2363eb7370aa7",
            "c8c817229ca64ef59807700b51b3641d",
            "ab3a8cd27ded4dd1bc2ea7baf2df2c30",
            "1afc156fa9124567b63563c102f6d5e9",
            "9a283c19fc7b4334b4707ba5cfacc167",
            "56d97adcf5494bdb8fe6bd3be802bdd3",
            "57c2a4b682df4d32922f900365bb62c3",
            "3220841aa4ba468c8b7b3cd73fbbbe10",
            "fdcb11ac67fb4520b01aa37550b38c44",
            "0c7cb2b54ecb4fd69b91a73bf8184975",
            "0668a3d5e197402e95b2549fbcea7115",
            "18abe3b6a6e84e14a1dc5f56ee3e3a5a",
            "e537353612464374a6afe6a4eb3cbf0e",
            "2dad7db07b5a4a728c51a15ce6290191",
            "3c8195b3fb744781a7529f7eb2aaeea0",
            "81479abbdeb94dfda9e9b0f93964cec5",
            "70cac949f8624594878616008c82b806",
            "c2018326fd5b416d89e8a167b40d7d10",
            "86bbd772a3ab4215a78a5ff3d70a2bba",
            "f1589f8a41a04730b4922fd75220c372",
            "0a24257e99f143e180c06cf25f58e372",
            "927440b75e644460bca3565d3e3c4464",
            "d8c6d3fa1c7e4341abcfa564340a83eb",
            "143e432929db4fe881b132a3b9dc4c5a",
            "6d12b4a92a384e729c2cdc359cb53904",
            "97bcb3f86d5745cb949883493172387a",
            "1c80ce5773194e5d86dcc83d2b96bf1b",
            "c0cce9a8c485437bac9f5774292480af",
            "04165e303705422e9acf1897eeb0e527",
            "13b433b8e52048daa44842c51c476f0e",
            "9fdc2543254941e89e160a99ddf560d1",
            "007cc8fb48c84bff891e10938e111f1e",
            "ec16aa01ed8f4b6bb482703bc8faeef4",
            "acbcb35091dd4c3fadf0dea0f99db7bd",
            "a4e249debe6d4e6da96a0d4143be5a37",
            "7d4bcff71b31438e9c4b15b6954dd9b6",
            "c23afc8d57874471abca8b72532add1e",
            "ec2986b79e084d708b349bafb2eae714"
          ]
        },
        "id": "HVHLaM2KM2F2",
        "outputId": "439f3bc2-2185-4083-c3ab-1d3154b5d154"
      },
      "outputs": [
        {
          "data": {
            "text/html": [
              "\n",
              "            <style>\n",
              "                .geemap-dark {\n",
              "                    --jp-widgets-color: white;\n",
              "                    --jp-widgets-label-color: white;\n",
              "                    --jp-ui-font-color1: white;\n",
              "                    --jp-layout-color2: #454545;\n",
              "                    background-color: #383838;\n",
              "                }\n",
              "\n",
              "                .geemap-dark .jupyter-button {\n",
              "                    --jp-layout-color3: #383838;\n",
              "                }\n",
              "\n",
              "                .geemap-colab {\n",
              "                    background-color: var(--colab-primary-surface-color, white);\n",
              "                }\n",
              "\n",
              "                .geemap-colab .jupyter-button {\n",
              "                    --jp-layout-color3: var(--colab-primary-surface-color, white);\n",
              "                }\n",
              "            </style>\n",
              "            "
            ],
            "text/plain": [
              "<IPython.core.display.HTML object>"
            ]
          },
          "metadata": {},
          "output_type": "display_data"
        },
        {
          "data": {
            "application/vnd.jupyter.widget-view+json": {
              "model_id": "b087103b6be2427980d1a99e706bec61",
              "version_major": 2,
              "version_minor": 0
            },
            "text/plain": [
              "Map(center=[-20.112185699155855, 28.554695214742292], controls=(WidgetControl(options=['position', 'transparen…"
            ]
          },
          "metadata": {
            "application/vnd.jupyter.widget-view+json": {
              "colab": {
                "custom_widget_manager": {
                  "url": "https://ssl.gstatic.com/colaboratory-static/widgets/colab-cdn-widget-manager/2b70e893a8ba7c0f/manager.min.js"
                }
              }
            }
          },
          "output_type": "display_data"
        }
      ],
      "source": [
        "# Display the land cover map derived from the random forest classifier.\n",
        "map_rf"
      ]
    },
    {
      "cell_type": "markdown",
      "metadata": {
        "id": "-sWK98k5dPFC"
      },
      "source": [
        "### Gradient tree boost-derived land cover map\n",
        "Display the land cover map derived from the gradient tree boost classifier."
      ]
    },
    {
      "cell_type": "code",
      "execution_count": null,
      "metadata": {
        "colab": {
          "base_uri": "https://localhost:8080/",
          "height": 621,
          "referenced_widgets": [
            "2adb865176ce43c1a0a656a7cffba78f",
            "0eac06e36c6948638b8bbc8ea0d4001e",
            "25da9d8c25174d34a296e3caba5a7c23",
            "45e80e8946714ad7a32144d8b4534d1e",
            "fec8e88d1c15439ba64838ed3f68a79d",
            "0b45bc9dbb7a4cb9963c456a275f06a0",
            "b6b2c0c8dc6747b4b7d6a83d272ce0f5",
            "41deb3c481d943f19d06161bad424e00",
            "492bcf3dabcb43b383ecc5d5162ae7e2",
            "b4894bd5616b4dc181daea8a82099df2",
            "cbfb98bdb87341bf8ce88d759734de08",
            "586b58be5bde47a7a81633f146cb10b4",
            "e002a95d315b4fbb8a487950e5eb0b43",
            "3aa59a00174c41eb9fec2bb94039c095",
            "11bc47d877f8495b93c9c0d3fdc4f168",
            "230edbb5c1a64921ae29839b16d9ab54",
            "6f2997c41ae14bc2b0e565956c813751",
            "1160bce70c7d4087af62734064db3038",
            "e70e5301a7f34f79b6f9286e5e989305",
            "e875271dfac9412e967dc9b809bfe94c",
            "3a1dda96cf1c4d849069ad2030e959a9",
            "16e176ae75554cfb8f7ab10cb8f8bcca",
            "ce55f9c8893d471d9caac88f97e54d46",
            "02b38a3ac0554c55962814e1fe3edba4",
            "ea540b6beba346a79169ccb3c59a7fd7",
            "4db4728074c44d1c8c39ead006aa1bbe",
            "af722c43ca3b4d5c946d0580deb9d434",
            "c56efb6a368d43739a859d92175b39a3",
            "a864f9b94cfe48c88dcddb24666970dd",
            "2ed17909974c4cd7a5d63a38af090cd2",
            "db119a9f54064e8e93c55f78116dcde7",
            "f0406d8958d443858a14ecb131313600",
            "c70dadab9ab340d7af4092510bb17e2d",
            "f64f329c92b141dd8ad1a2a52dec8a52",
            "b4b66761449f499db7c9c0198b87ce5b",
            "ac453df983b14c83b3b333a7f2235895",
            "6a32f70b17b54b3bb0d66ad8925bfd04",
            "386bdb2b63b74f91bf84e298c4dd7e8d",
            "9fa5c328872a4797a994d3c3b556f04e",
            "add22df5ab9f4fda9b19e2e6f2c5a62a",
            "65cb8c94a4be4f679ad10ff8370cc7b0",
            "2d209d3b44b24142a184dee783718837",
            "169806c598d840c1b034797f7a197567",
            "ecbbb8465c46492b92046e46caacbc08",
            "5cf93603d4d44effb0e7b22347225545",
            "db38610b9655418eaa0a2a7fc7f659e4",
            "44715fcea7a54ec6af49ebaebc483ce6",
            "b22d0be4f3294d4a8e5f68bbee7d0d37",
            "9bdd1e0faf8f48d195a952eadd180010",
            "428a43f6463842689ef59ef5f04697c9",
            "d67119c200cc47ef9938914b98527a4b",
            "98ac3fff0da843ab80e876489b281457",
            "6c573852c0704a7bb99c3e8c5d3a704e",
            "5df5bc17ba6c4b2f943cbd5be40e3415",
            "4a40a268b5c14d0a986e1ed7e8c2fd46",
            "111a97baf2a042ea8f706fd09b85cc05",
            "6e9633e0c72c4438a7e19b239c0d95c2",
            "b1a61f49d5384db5949d952e0cde25fe",
            "b61378b20590473396095fb94c94998b",
            "d452b9cff7394e978616401088c2bbe5",
            "be8b808db84b4ca08aa9edf82823ae62",
            "c2aaea22b8ff4c6f895c1c60392944fb",
            "4840cc948e604567ab074ed0cba59767",
            "46adad494e604b5d8a07f03032fc66ed",
            "7884b686826640d2b15071371129591e",
            "e9220ee6420c49e6b586ee0648b6d6f5",
            "7b3bda4188934cb9bf102ba1c7cef0bb",
            "dcb0dabf7fa64483b6c306521978afc0",
            "d3f5ad17746143b5a430a6cc39d77293",
            "22999a31990c4169923be7eb9bcae1f3",
            "4fb2b7b7064f49f3a5b7552faa60403a",
            "7f0e1876b450416ab1432bb4235f0214",
            "5abfdef70779499e808f3b4a837e6e9a",
            "36bcc6e22c034fb996536f8061e65b23",
            "d8566312db2445e995466a09a458940b",
            "d3bc96909bd14a4093f88aa7a1e22f75",
            "2f55161816804533b8a80aedba9e1028",
            "b5e9d1c82df34ba1a351e34723832e15",
            "da3d2e5f259f4a0dbd462020d04f4ebd",
            "ad1d15d7a836425f8ba2e40f102d3467",
            "20a68ebea56a46b997c76c2fc82467ff",
            "3dc952b0a3f64d9d8da2401b2d9703e3",
            "db7a4babd9354066af4aa8854d666d19",
            "844e5e3fc7d84996bb724ab28a257961",
            "31b168a9e5a746c6adf7c8d079bbaf65",
            "f309f546d4364b36af1ecdec0803debb",
            "cad81636a7874f819cd26bfd19d3c5c0",
            "cec4d26924744f7b90ac83e685a3bc18",
            "9e7e11ce5cd84ff9973b535d2dd9aba5",
            "0fa8ae8a0c254d68894576666064011f",
            "10c6cb6452f74f33966a7049181479d9",
            "564658dac20a436ea018394f714b0aec",
            "8815c57593d84e6894c609ee07501657"
          ]
        },
        "id": "SYB66XsoNxjY",
        "outputId": "335f015b-b10d-4c42-b175-641f697ee52f"
      },
      "outputs": [
        {
          "data": {
            "text/html": [
              "\n",
              "            <style>\n",
              "                .geemap-dark {\n",
              "                    --jp-widgets-color: white;\n",
              "                    --jp-widgets-label-color: white;\n",
              "                    --jp-ui-font-color1: white;\n",
              "                    --jp-layout-color2: #454545;\n",
              "                    background-color: #383838;\n",
              "                }\n",
              "\n",
              "                .geemap-dark .jupyter-button {\n",
              "                    --jp-layout-color3: #383838;\n",
              "                }\n",
              "\n",
              "                .geemap-colab {\n",
              "                    background-color: var(--colab-primary-surface-color, white);\n",
              "                }\n",
              "\n",
              "                .geemap-colab .jupyter-button {\n",
              "                    --jp-layout-color3: var(--colab-primary-surface-color, white);\n",
              "                }\n",
              "            </style>\n",
              "            "
            ],
            "text/plain": [
              "<IPython.core.display.HTML object>"
            ]
          },
          "metadata": {},
          "output_type": "display_data"
        },
        {
          "data": {
            "application/vnd.jupyter.widget-view+json": {
              "model_id": "2adb865176ce43c1a0a656a7cffba78f",
              "version_major": 2,
              "version_minor": 0
            },
            "text/plain": [
              "Map(center=[-20.112185699155855, 28.554695214742292], controls=(WidgetControl(options=['position', 'transparen…"
            ]
          },
          "metadata": {
            "application/vnd.jupyter.widget-view+json": {
              "colab": {
                "custom_widget_manager": {
                  "url": "https://ssl.gstatic.com/colaboratory-static/widgets/colab-cdn-widget-manager/2b70e893a8ba7c0f/manager.min.js"
                }
              }
            }
          },
          "output_type": "display_data"
        }
      ],
      "source": [
        "# Display the land cover map derived from the gradient boosting classifier.\n",
        "map_gtb"
      ]
    },
    {
      "cell_type": "markdown",
      "metadata": {
        "id": "rGmT1Rx_eB46"
      },
      "source": [
        "## Classification accuracy assessment\n",
        "Finally, we evaluate the accuracy of classifiers using a test dataset. The compute_metrics function takes a trained classifier, test dataset, and algorithm name as inputs. It applies the classifier to the test data, generating predictions, and then calculates an error matrix that compares predicted classes with reference data. Key metrics such as user accuracy, producer accuracy, and overall accuracy are extracted from the error matrix and printed alongside the algorithm name for clarity. The function is applied to each classifier (minimum distance, decision trees, random forest, RBF support vector machines classifier, and gradient tree boosting) using the test dataset (Sample_test), providing a comprehensive accuracy assessment for all models."
      ]
    },
    {
      "cell_type": "code",
      "execution_count": null,
      "metadata": {
        "colab": {
          "base_uri": "https://localhost:8080/",
          "height": 778
        },
        "id": "7ow9BCDVQ3z6",
        "outputId": "a411af92-de48-410e-beff-9e9edce268bd"
      },
      "outputs": [
        {
          "data": {
            "text/html": [
              "\n",
              "            <style>\n",
              "                .geemap-dark {\n",
              "                    --jp-widgets-color: white;\n",
              "                    --jp-widgets-label-color: white;\n",
              "                    --jp-ui-font-color1: white;\n",
              "                    --jp-layout-color2: #454545;\n",
              "                    background-color: #383838;\n",
              "                }\n",
              "\n",
              "                .geemap-dark .jupyter-button {\n",
              "                    --jp-layout-color3: #383838;\n",
              "                }\n",
              "\n",
              "                .geemap-colab {\n",
              "                    background-color: var(--colab-primary-surface-color, white);\n",
              "                }\n",
              "\n",
              "                .geemap-colab .jupyter-button {\n",
              "                    --jp-layout-color3: var(--colab-primary-surface-color, white);\n",
              "                }\n",
              "            </style>\n",
              "            "
            ],
            "text/plain": [
              "<IPython.core.display.HTML object>"
            ]
          },
          "metadata": {},
          "output_type": "display_data"
        },
        {
          "name": "stdout",
          "output_type": "stream",
          "text": [
            "Algorithm: Minimum distance\n",
            "Validation Error Matrix:\n",
            " [[42, 38, 120, 94, 212, 8], [194, 293, 178, 53, 55, 0], [135, 47, 2045, 738, 29, 6], [212, 101, 580, 1330, 543, 3], [4, 0, 4, 17, 380, 65], [2, 0, 0, 6, 47, 36]]\n",
            "User Accuracy:  [[0.07130730050933787, 0.6116910229645094, 0.6986675777246327, 0.5942806076854334, 0.3001579778830964, 0.3050847457627119]]\n",
            "Producer Accuracy:  [[0.08171206225680934], [0.37904269081500647], [0.6816666666666666], [0.48031780426146625], [0.8085106382978723], [0.3956043956043956]]\n",
            "Overall Accuracy:  0.5416830773270317\n",
            "-----------------------------------------------\n",
            "Algorithm: KNN\n",
            "Validation Error Matrix:\n",
            " [[301, 52, 38, 99, 24, 0], [45, 594, 56, 74, 4, 0], [27, 29, 2585, 356, 2, 1], [28, 72, 319, 2266, 82, 2], [16, 1, 21, 109, 319, 4], [6, 4, 0, 2, 1, 78]]\n",
            "User Accuracy:  [[0.7115839243498818, 0.7898936170212766, 0.8562437893342166, 0.7797660013764625, 0.7384259259259259, 0.9176470588235294]]\n",
            "Producer Accuracy:  [[0.585603112840467], [0.7684346701164295], [0.8616666666666667], [0.8183459732755507], [0.6787234042553192], [0.8571428571428571]]\n",
            "Overall Accuracy:  0.8064854929762374\n",
            "-----------------------------------------------\n",
            "Algorithm: RBF SVM\n",
            "Validation Error Matrix:\n",
            " [[1, 84, 84, 280, 65, 0], [16, 494, 78, 178, 7, 0], [2, 9, 2347, 632, 10, 0], [0, 57, 591, 1974, 147, 0], [0, 0, 9, 134, 327, 0], [2, 3, 9, 13, 47, 17]]\n",
            "User Accuracy:  [[0.047619047619047616, 0.7635239567233385, 0.7527261064785119, 0.6147617564621614, 0.5422885572139303, 1]]\n",
            "Producer Accuracy:  [[0.0019455252918287938], [0.6390685640362225], [0.7823333333333333], [0.7128927410617552], [0.6957446808510638], [0.18681318681318682]]\n",
            "Overall Accuracy:  0.677432059866089\n",
            "-----------------------------------------------\n",
            "Algorithm: Decision trees\n",
            "Validation Error Matrix:\n",
            " [[288, 62, 34, 93, 37, 0], [57, 553, 63, 95, 3, 2], [46, 69, 2453, 420, 10, 2], [81, 115, 493, 1976, 101, 3], [31, 4, 15, 93, 324, 3], [4, 4, 0, 4, 8, 71]]\n",
            "User Accuracy:  [[0.5680473372781065, 0.6852540272614622, 0.802158273381295, 0.7370384185005595, 0.6708074534161491, 0.8765432098765432]]\n",
            "Producer Accuracy:  [[0.5603112840466926], [0.7153945666235446], [0.8176666666666667], [0.7136150234741784], [0.6893617021276596], [0.7802197802197802]]\n",
            "Overall Accuracy:  0.7437311277405803\n",
            "-----------------------------------------------\n",
            "Algorithm: Random forest\n",
            "Validation Error Matrix:\n",
            " [[279, 66, 27, 111, 31, 0], [28, 618, 47, 76, 4, 0], [15, 26, 2620, 336, 2, 1], [22, 77, 333, 2265, 71, 1], [12, 4, 18, 83, 352, 1], [4, 4, 0, 4, 1, 78]]\n",
            "User Accuracy:  [[0.775, 0.7773584905660378, 0.8604269293924466, 0.7878260869565218, 0.7635574837310195, 0.9629629629629629]]\n",
            "Producer Accuracy:  [[0.5428015564202334], [0.7994825355756792], [0.8733333333333333], [0.8179848320693391], [0.7489361702127659], [0.8571428571428571]]\n",
            "Overall Accuracy:  0.8155441774977025\n",
            "-----------------------------------------------\n",
            "Algorithm: Gradient tree boosting\n",
            "Validation Error Matrix:\n",
            " [[293, 66, 27, 97, 31, 0], [22, 644, 34, 69, 3, 1], [14, 32, 2621, 331, 2, 0], [26, 91, 337, 2249, 65, 1], [16, 6, 15, 89, 340, 4], [4, 4, 0, 4, 2, 77]]\n",
            "User Accuracy:  [[0.7813333333333333, 0.763938315539739, 0.8638760711931444, 0.792180345191969, 0.7674943566591422, 0.927710843373494]]\n",
            "Producer Accuracy:  [[0.5700389105058365], [0.833117723156533], [0.8736666666666667], [0.812206572769953], [0.723404255319149], [0.8461538461538461]]\n",
            "Overall Accuracy:  0.8171196008927399\n",
            "-----------------------------------------------\n"
          ]
        }
      ],
      "source": [
        "# Function to compute accuracy metrics\n",
        "def compute_metrics(classifier, validation_data, algorithm_name):\n",
        "    validation_data_classified = validation_data.classify(classifier)\n",
        "    error_matrix = validation_data_classified.errorMatrix('class', 'classification')\n",
        "    print(f'Algorithm: {algorithm_name}')\n",
        "    print('Validation Error Matrix:\\n', error_matrix.getInfo())\n",
        "    print('User Accuracy: ', error_matrix.consumersAccuracy().getInfo())\n",
        "    print('Producer Accuracy: ', error_matrix.producersAccuracy().getInfo())\n",
        "    print('Overall Accuracy: ', error_matrix.accuracy().getInfo())\n",
        "    print('-----------------------------------------------')\n",
        "\n",
        "# Compute metrics for each classifier\n",
        "compute_metrics(trainedMD, Sample_test, 'Minimum distance')\n",
        "compute_metrics(trainedKNN, Sample_test, 'KNN')\n",
        "compute_metrics(trainedRBFSVC, Sample_test, 'RBF SVM')\n",
        "compute_metrics(trainedDT, Sample_test, 'Decision trees')\n",
        "compute_metrics(trainedRF, Sample_test, 'Random forest')\n",
        "compute_metrics(trainedGTB, Sample_test, 'Gradient tree boosting')"
      ]
    }
  ],
  "metadata": {
    "colab": {
      "provenance": [],
      "include_colab_link": true
    },
    "kernelspec": {
      "display_name": "Python 3",
      "name": "python3"
    },
    "language_info": {
      "name": "python"
    }
  },
  "nbformat": 4,
  "nbformat_minor": 0
}